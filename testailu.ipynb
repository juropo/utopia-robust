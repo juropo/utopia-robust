{
 "cells": [
  {
   "cell_type": "code",
   "execution_count": 2,
   "metadata": {},
   "outputs": [],
   "source": [
    "import gurobipy as gp\n",
    "from gurobipy import GRB\n",
    "import numpy as np"
   ]
  },
  {
   "cell_type": "code",
   "execution_count": 3,
   "metadata": {},
   "outputs": [
    {
     "name": "stdout",
     "output_type": "stream",
     "text": [
      "Set parameter Username\n",
      "Academic license - for non-commercial use only - expires 2025-02-22\n"
     ]
    },
    {
     "ename": "GurobiError",
     "evalue": "Invalid argument to Model.addConstr",
     "output_type": "error",
     "traceback": [
      "\u001b[1;31m---------------------------------------------------------------------------\u001b[0m",
      "\u001b[1;31mGurobiError\u001b[0m                               Traceback (most recent call last)",
      "Cell \u001b[1;32mIn[3], line 34\u001b[0m\n\u001b[0;32m     32\u001b[0m \u001b[38;5;28;01mfor\u001b[39;00m i \u001b[38;5;129;01min\u001b[39;00m \u001b[38;5;28mrange\u001b[39m(n_x):\n\u001b[0;32m     33\u001b[0m     \u001b[38;5;28;01mfor\u001b[39;00m j \u001b[38;5;129;01min\u001b[39;00m \u001b[38;5;28mrange\u001b[39m(n_y):\n\u001b[1;32m---> 34\u001b[0m         \u001b[43mmodel\u001b[49m\u001b[38;5;241;43m.\u001b[39;49m\u001b[43maddQConstr\u001b[49m\u001b[43m(\u001b[49m\u001b[43mx\u001b[49m\u001b[43m[\u001b[49m\u001b[43mi\u001b[49m\u001b[43m]\u001b[49m\u001b[43m \u001b[49m\u001b[38;5;241;43m*\u001b[39;49m\u001b[43m \u001b[49m\u001b[43my\u001b[49m\u001b[43m[\u001b[49m\u001b[43mj\u001b[49m\u001b[43m]\u001b[49m\u001b[43m \u001b[49m\u001b[38;5;241;43m<\u001b[39;49m\u001b[38;5;241;43m=\u001b[39;49m\u001b[43m \u001b[49m\u001b[43mk\u001b[49m\u001b[43m,\u001b[49m\u001b[43m \u001b[49m\u001b[43mname\u001b[49m\u001b[38;5;241;43m=\u001b[39;49m\u001b[38;5;124;43mf\u001b[39;49m\u001b[38;5;124;43m\"\u001b[39;49m\u001b[38;5;124;43mbilinear_\u001b[39;49m\u001b[38;5;132;43;01m{\u001b[39;49;00m\u001b[43mi\u001b[49m\u001b[38;5;132;43;01m}\u001b[39;49;00m\u001b[38;5;124;43m_\u001b[39;49m\u001b[38;5;132;43;01m{\u001b[39;49;00m\u001b[43mj\u001b[49m\u001b[38;5;132;43;01m}\u001b[39;49;00m\u001b[38;5;124;43m\"\u001b[39;49m\u001b[43m)\u001b[49m\n\u001b[0;32m     36\u001b[0m \u001b[38;5;66;03m# Optimize the model\u001b[39;00m\n\u001b[0;32m     37\u001b[0m model\u001b[38;5;241m.\u001b[39moptimize()\n",
      "File \u001b[1;32msrc\\\\gurobipy\\\\model.pxi:3832\u001b[0m, in \u001b[0;36mgurobipy.Model.addQConstr\u001b[1;34m()\u001b[0m\n",
      "File \u001b[1;32msrc\\\\gurobipy\\\\model.pxi:3541\u001b[0m, in \u001b[0;36mgurobipy.Model.__addConstr\u001b[1;34m()\u001b[0m\n",
      "\u001b[1;31mGurobiError\u001b[0m: Invalid argument to Model.addConstr"
     ]
    }
   ],
   "source": [
    "# Example data\n",
    "c_x = np.array([3, 2])         # Objective coefficients for x\n",
    "c_y = np.array([4, 1])         # Objective coefficients for y\n",
    "\n",
    "A_x = np.array([[2, 1],        # Coefficient matrix for x in constraints\n",
    "                [1, 2]])\n",
    "A_y = np.array([[1, 2],        # Coefficient matrix for y in constraints\n",
    "                [2, 1]])\n",
    "\n",
    "b = np.array([20, 30])         # Right-hand side for constraints\n",
    "k = 10                         # Bilinear constraint bound (x_i * y_j <= k)\n",
    "\n",
    "# Sizes of the x and y vectors\n",
    "n_x = len(c_x)\n",
    "n_y = len(c_y)\n",
    "\n",
    "# Create a new model\n",
    "model = gp.Model(\"bilinear_problem\")\n",
    "\n",
    "# Define variables for x and y (x >= 0, y >= 0)\n",
    "x = model.addMVar(shape=n_x, name=\"x\", lb=0)\n",
    "y = model.addMVar(shape=n_y, name=\"y\", lb=0)\n",
    "\n",
    "# Set the objective function (maximize c_x^T x + c_y^T y)\n",
    "model.setObjective(c_x @ x + c_y @ y, GRB.MAXIMIZE)\n",
    "\n",
    "# Add constraints (A_x x + A_y y <= b)\n",
    "model.addMConstr(A_x, x, \"<=\", b)\n",
    "model.addMConstr(A_y, y, \"<=\", b)\n",
    "\n",
    "# Add auxiliary variables for the bilinear terms\n",
    "bilinear_vars = []\n",
    "for i in range(n_x):\n",
    "    for j in range(n_y):\n",
    "        bilinear_var = model.addVar(name=f\"bilinear_{i}_{j}\", lb=0)\n",
    "        bilinear_vars.append(bilinear_var)\n",
    "        \n",
    "        # Add bilinear constraints: bilinear_var = x[i] * y[j]\n",
    "        model.addConstr(bilinear_var == x[i] * y[j], name=f\"bilinear_eq_{i}_{j}\")\n",
    "        \n",
    "        # Add upper bound for the bilinear term: bilinear_var <= k\n",
    "        model.addConstr(bilinear_var <= k, name=f\"bilinear_bound_{i}_{j}\")\n",
    "\n",
    "# Optimize the model\n",
    "model.optimize()\n",
    "\n",
    "# Print the solution\n",
    "if model.status == GRB.OPTIMAL:\n",
    "    print(f\"Optimal solution for x: {x.X}\")\n",
    "    print(f\"Optimal solution for y: {y.X}\")\n",
    "    print(f\"Optimal objective value: {model.objVal}\")"
   ]
  }
 ],
 "metadata": {
  "kernelspec": {
   "display_name": "desdeo2",
   "language": "python",
   "name": "python3"
  },
  "language_info": {
   "codemirror_mode": {
    "name": "ipython",
    "version": 3
   },
   "file_extension": ".py",
   "mimetype": "text/x-python",
   "name": "python",
   "nbconvert_exporter": "python",
   "pygments_lexer": "ipython3",
   "version": "3.12.3"
  }
 },
 "nbformat": 4,
 "nbformat_minor": 2
}
